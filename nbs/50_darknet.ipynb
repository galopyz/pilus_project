{
 "cells": [
  {
   "cell_type": "markdown",
   "id": "3004cc7b",
   "metadata": {},
   "source": [
    "# Darknet\n",
    "\n",
    "> Trying darknet on imagenet tiny."
   ]
  },
  {
   "cell_type": "markdown",
   "id": "2fb0446d",
   "metadata": {},
   "source": [
    "Darknet19 is very simple backbone for image detection model, [yolov2](https://arxiv.org/pdf/1612.08242v1). To learn how image detections work with bounding boxes, this seems like a good place to start. "
   ]
  },
  {
   "cell_type": "code",
   "execution_count": null,
   "id": "ad8e5d22",
   "metadata": {},
   "outputs": [],
   "source": [
    "from minai import *\n",
    "\n",
    "import torch\n",
    "import torch.nn as nn\n",
    "from datasets import load_dataset, load_dataset_builder\n",
    "from torcheval.metrics import  MulticlassAccuracy\n",
    "import torchvision.transforms.v2.functional as TF"
   ]
  },
  {
   "cell_type": "code",
   "execution_count": null,
   "id": "267d275b",
   "metadata": {},
   "outputs": [],
   "source": [
    "import fastcore.all as fc, numpy as np, matplotlib as mpl, matplotlib.pyplot as plt\n",
    "\n",
    "import httpx"
   ]
  },
  {
   "cell_type": "code",
   "execution_count": null,
   "id": "bfc9a6c1",
   "metadata": {},
   "outputs": [],
   "source": [
    "set_seed(42)"
   ]
  },
  {
   "cell_type": "markdown",
   "id": "5684fa5e",
   "metadata": {},
   "source": [
    "## Data"
   ]
  },
  {
   "cell_type": "markdown",
   "id": "d5fdf2d9",
   "metadata": {},
   "source": [
    "We use imagenet tiny to test our darknet before moving on to the actual imagenet with 1000 classes. We will grab images from huggingface datasets."
   ]
  },
  {
   "cell_type": "code",
   "execution_count": null,
   "id": "5a4be4fc",
   "metadata": {},
   "outputs": [
    {
     "data": {
      "text/plain": [
       "DatasetDict({\n",
       "    train: Dataset({\n",
       "        features: ['image', 'label'],\n",
       "        num_rows: 100000\n",
       "    })\n",
       "    valid: Dataset({\n",
       "        features: ['image', 'label'],\n",
       "        num_rows: 10000\n",
       "    })\n",
       "})"
      ]
     },
     "execution_count": null,
     "metadata": {},
     "output_type": "execute_result"
    }
   ],
   "source": [
    "ds_name = 'zh-plus/tiny-imagenet'\n",
    "dsd = load_dataset(ds_name)\n",
    "dsd"
   ]
  },
  {
   "cell_type": "markdown",
   "id": "f2dd1082",
   "metadata": {},
   "source": [
    "Unfortunately, some images are gray images (1 channel) instead of colors (3 channels). We repeat channels to make it 3 channels. We also make the images to be scaled to between 0 and 1."
   ]
  },
  {
   "cell_type": "code",
   "execution_count": null,
   "id": "9fcf33ee",
   "metadata": {},
   "outputs": [],
   "source": [
    "def transforms(b):\n",
    "    def process_image(img):\n",
    "        tensor = TF.to_dtype(TF.to_image(img), dtype=torch.float32, scale=True)\n",
    "        if tensor.shape[0] == 1: tensor = tensor.repeat(3, 1, 1) \n",
    "        return tensor\n",
    "    \n",
    "    b['image'] = [process_image(o) for o in b['image']]\n",
    "    return b"
   ]
  },
  {
   "cell_type": "code",
   "execution_count": null,
   "id": "b44cd698",
   "metadata": {},
   "outputs": [
    {
     "data": {
      "text/plain": [
       "(torch.Size([64, 3, 64, 64]),\n",
       " torch.Size([64]),\n",
       " tensor([ 82,  83, 124, 184, 169]))"
      ]
     },
     "execution_count": null,
     "metadata": {},
     "output_type": "execute_result"
    }
   ],
   "source": [
    "ds = dsd.with_transform(transforms)\n",
    "dls = DataLoaders.from_dd(ds,batch_size=64)\n",
    "xb, yb = next(iter(dls.train))\n",
    "xb.shape, yb.shape, yb[:5]"
   ]
  },
  {
   "cell_type": "code",
   "execution_count": null,
   "id": "6564565b",
   "metadata": {},
   "outputs": [
    {
     "data": {
      "text/plain": [
       "tensor([ 82,  83, 124, 184, 169])"
      ]
     },
     "execution_count": null,
     "metadata": {},
     "output_type": "execute_result"
    }
   ],
   "source": [
    "yb[:5]"
   ]
  },
  {
   "cell_type": "code",
   "execution_count": null,
   "id": "5210743c",
   "metadata": {},
   "outputs": [
    {
     "data": {
      "text/plain": [
       "array(['n01443537', 'n01629819', 'n01641577', 'n01644900', 'n01698640'],\n",
       "      dtype='<U9')"
      ]
     },
     "execution_count": null,
     "metadata": {},
     "output_type": "execute_result"
    }
   ],
   "source": [
    "lbls = np.array(ds['train'].features['label'].names)\n",
    "lbls[:5]"
   ]
  },
  {
   "cell_type": "markdown",
   "id": "1d4d30ec",
   "metadata": {},
   "source": [
    "So, the labels are not very distinguishable. Let's get the actual labels."
   ]
  },
  {
   "cell_type": "code",
   "execution_count": null,
   "id": "7b82fc16",
   "metadata": {},
   "outputs": [
    {
     "data": {
      "text/plain": [
       "{'n00001740': 'entity',\n",
       " 'n00001930': 'physical entity',\n",
       " 'n00002137': 'abstraction, abstract entity',\n",
       " 'n00002452': 'thing',\n",
       " 'n00002684': 'object, physical object'}"
      ]
     },
     "execution_count": null,
     "metadata": {},
     "output_type": "execute_result"
    }
   ],
   "source": [
    "import ast\n",
    "\n",
    "res = httpx.get('https://huggingface.co/datasets/zh-plus/tiny-imagenet/raw/main/classes.py')\n",
    "cls = ast.literal_eval(res.text.split('=')[1])\n",
    "dict(list(cls.items())[:5])"
   ]
  },
  {
   "cell_type": "code",
   "execution_count": null,
   "id": "7e8249a2",
   "metadata": {},
   "outputs": [],
   "source": [
    "def get_lbls(yb): return [cls[o].split(',')[0] for o in lbls[yb]]"
   ]
  },
  {
   "cell_type": "code",
   "execution_count": null,
   "id": "7afcad77",
   "metadata": {},
   "outputs": [
    {
     "data": {
      "text/plain": [
       "['Christmas stocking', 'cliff dwelling', 'poncho', 'bee', 'ice lolly']"
      ]
     },
     "execution_count": null,
     "metadata": {},
     "output_type": "execute_result"
    }
   ],
   "source": [
    "get_lbls(yb[:5])"
   ]
  },
  {
   "cell_type": "code",
   "execution_count": null,
   "id": "d1cb0d56",
   "metadata": {},
   "outputs": [
    {
     "data": {
      "image/png": "[encoded data removed]",
      "text/plain": [
       "<Figure size 1500x300 with 5 Axes>"
      ]
     },
     "metadata": {},
     "output_type": "display_data"
    }
   ],
   "source": [
    "show_images(xb[:5], ncols=5, titles=get_lbls(yb[:5]))"
   ]
  },
  {
   "cell_type": "markdown",
   "id": "51df16d7",
   "metadata": {},
   "source": [
    "That looks about right."
   ]
  },
  {
   "cell_type": "markdown",
   "id": "0dae684b",
   "metadata": {},
   "source": [
    "## Basic model"
   ]
  },
  {
   "cell_type": "markdown",
   "id": "24ff79d7",
   "metadata": {},
   "source": [
    "Before using the darknet, I would like to use a simple model to get the training going."
   ]
  },
  {
   "cell_type": "code",
   "execution_count": null,
   "id": "e7c23617",
   "metadata": {},
   "outputs": [],
   "source": [
    "model = nn.Sequential(\n",
    "    nn.Conv2d(3, 16, kernel_size=3, stride=2, padding=1),\n",
    "    nn.BatchNorm2d(16),\n",
    "    nn.ReLU(),\n",
    "    nn.Conv2d(16, 16, kernel_size=3, stride=2, padding=1),\n",
    "    nn.BatchNorm2d(16),\n",
    "    nn.ReLU(),\n",
    "    nn.Conv2d(16, 200, kernel_size=3, stride=2, padding=1),\n",
    "    nn.BatchNorm2d(200),\n",
    "    nn.ReLU(),\n",
    "    nn.AdaptiveAvgPool2d(1),\n",
    "    nn.Flatten()\n",
    ")"
   ]
  },
  {
   "cell_type": "code",
   "execution_count": null,
   "id": "7776a926",
   "metadata": {},
   "outputs": [],
   "source": [
    "cbs = [\n",
    "    TrainCB(), # Handles the core steps in the training loop. Can be left out if using TrainLearner\n",
    "    DeviceCB(), # Handles making sure data and model are on the right device\n",
    "    MetricsCB(accuracy=MulticlassAccuracy()), # Keep track of any relevant metrics\n",
    "    ProgressCB(), # Displays metrics and loss during training, optionally plot=True for a pretty graph\n",
    "]"
   ]
  },
  {
   "cell_type": "code",
   "execution_count": null,
   "id": "b31ef5fa",
   "metadata": {},
   "outputs": [],
   "source": [
    "loss_fn = nn.CrossEntropyLoss()\n",
    "learn = Learner(model, dls, loss_fn, lr=1, cbs=cbs)\n",
    "# learn.show_image_batch()"
   ]
  },
  {
   "cell_type": "code",
   "execution_count": null,
   "id": "90a1db9b",
   "metadata": {},
   "outputs": [],
   "source": [
    "# learn.summary()"
   ]
  },
  {
   "cell_type": "code",
   "execution_count": null,
   "id": "6377f643",
   "metadata": {},
   "outputs": [
    {
     "data": {
      "text/html": [
       "\n",
       "<style>\n",
       "    /* Turns off some styling */\n",
       "    progress {\n",
       "        /* gets rid of default border in Firefox and Opera. */\n",
       "        border: none;\n",
       "        /* Needs to be in here for Safari polyfill so background images work as expected. */\n",
       "        background-size: auto;\n",
       "    }\n",
       "    progress:not([value]), progress:not([value])::-webkit-progress-bar {\n",
       "        background: repeating-linear-gradient(45deg, #7e7e7e, #7e7e7e 10px, #5c5c5c 10px, #5c5c5c 20px);\n",
       "    }\n",
       "    .progress-bar-interrupted, .progress-bar-interrupted::-webkit-progress-bar {\n",
       "        background: #F44336;\n",
       "    }\n",
       "</style>\n"
      ],
      "text/plain": [
       "<IPython.core.display.HTML object>"
      ]
     },
     "metadata": {},
     "output_type": "display_data"
    },
    {
     "data": {
      "text/html": [
       "\n",
       "    <div>\n",
       "      <progress value='0' class='' max='10' style='width:300px; height:20px; vertical-align: middle;'></progress>\n",
       "      0.00% [0/10 00:00&lt;?]\n",
       "    </div>\n",
       "    \n",
       "\n",
       "\n",
       "    <div>\n",
       "      <progress value='67' class='' max='1563' style='width:300px; height:20px; vertical-align: middle;'></progress>\n",
       "      4.29% [67/1563 00:01&lt;00:22 9.638]\n",
       "    </div>\n",
       "    "
      ],
      "text/plain": [
       "<IPython.core.display.HTML object>"
      ]
     },
     "metadata": {},
     "output_type": "display_data"
    },
    {
     "data": {
      "image/png": "[encoded data removed]",
      "text/plain": [
       "<Figure size 640x480 with 1 Axes>"
      ]
     },
     "metadata": {},
     "output_type": "display_data"
    }
   ],
   "source": [
    "learn.lr_find()"
   ]
  },
  {
   "cell_type": "code",
   "execution_count": null,
   "id": "cec08817",
   "metadata": {},
   "outputs": [
    {
     "data": {
      "text/html": [
       "\n",
       "<style>\n",
       "    /* Turns off some styling */\n",
       "    progress {\n",
       "        /* gets rid of default border in Firefox and Opera. */\n",
       "        border: none;\n",
       "        /* Needs to be in here for Safari polyfill so background images work as expected. */\n",
       "        background-size: auto;\n",
       "    }\n",
       "    progress:not([value]), progress:not([value])::-webkit-progress-bar {\n",
       "        background: repeating-linear-gradient(45deg, #7e7e7e, #7e7e7e 10px, #5c5c5c 10px, #5c5c5c 20px);\n",
       "    }\n",
       "    .progress-bar-interrupted, .progress-bar-interrupted::-webkit-progress-bar {\n",
       "        background: #F44336;\n",
       "    }\n",
       "</style>\n"
      ],
      "text/plain": [
       "<IPython.core.display.HTML object>"
      ]
     },
     "metadata": {},
     "output_type": "display_data"
    },
    {
     "data": {
      "text/html": [
       "<table border=\"1\" class=\"dataframe\">\n",
       "  <thead>\n",
       "    <tr style=\"text-align: left;\">\n",
       "      <th>accuracy</th>\n",
       "      <th>loss</th>\n",
       "      <th>epoch</th>\n",
       "      <th>train</th>\n",
       "      <th>time</th>\n",
       "    </tr>\n",
       "  </thead>\n",
       "  <tbody>\n",
       "    <tr>\n",
       "      <td>0.011</td>\n",
       "      <td>7.533</td>\n",
       "      <td>0</td>\n",
       "      <td>train</td>\n",
       "      <td>00:17</td>\n",
       "    </tr>\n",
       "    <tr>\n",
       "      <td>0.018</td>\n",
       "      <td>5.354</td>\n",
       "      <td>0</td>\n",
       "      <td>eval</td>\n",
       "      <td>00:01</td>\n",
       "    </tr>\n",
       "    <tr>\n",
       "      <td>0.020</td>\n",
       "      <td>5.269</td>\n",
       "      <td>1</td>\n",
       "      <td>train</td>\n",
       "      <td>00:18</td>\n",
       "    </tr>\n",
       "    <tr>\n",
       "      <td>0.024</td>\n",
       "      <td>5.215</td>\n",
       "      <td>1</td>\n",
       "      <td>eval</td>\n",
       "      <td>00:01</td>\n",
       "    </tr>\n",
       "    <tr>\n",
       "      <td>0.024</td>\n",
       "      <td>5.198</td>\n",
       "      <td>2</td>\n",
       "      <td>train</td>\n",
       "      <td>00:18</td>\n",
       "    </tr>\n",
       "    <tr>\n",
       "      <td>0.027</td>\n",
       "      <td>5.179</td>\n",
       "      <td>2</td>\n",
       "      <td>eval</td>\n",
       "      <td>00:01</td>\n",
       "    </tr>\n",
       "  </tbody>\n",
       "</table>"
      ],
      "text/plain": [
       "<IPython.core.display.HTML object>"
      ]
     },
     "metadata": {},
     "output_type": "display_data"
    }
   ],
   "source": [
    "learn.fit(3)"
   ]
  },
  {
   "cell_type": "markdown",
   "id": "e7346c98",
   "metadata": {},
   "source": [
    "Good. It trains. So, the dataloader is set properly. Let's move on to darknet."
   ]
  },
  {
   "cell_type": "markdown",
   "id": "bb9bc30d",
   "metadata": {},
   "source": [
    "## Darknet"
   ]
  },
  {
   "cell_type": "markdown",
   "id": "611d89cf",
   "metadata": {},
   "source": [
    "Let's try darknet with a simple classification head."
   ]
  },
  {
   "cell_type": "code",
   "execution_count": null,
   "id": "333f9905",
   "metadata": {},
   "outputs": [],
   "source": [
    "class ConvBlock(nn.Module):\n",
    "    def __init__(self, in_ch, out_ch, ks=3, use_norm=True, use_act=True, act=nn.LeakyReLU(0.1)):\n",
    "        super().__init__()\n",
    "        pad = 1 if ks == 3 else 0\n",
    "        self.conv = nn.Conv2d(in_ch, out_ch, ks, padding=pad)\n",
    "        self.norm = nn.BatchNorm2d(out_ch) if use_norm else nn.Identity()\n",
    "        self.act = act if use_act else nn.Identity()\n",
    "\n",
    "    def forward(self, x): \n",
    "        return self.act(self.norm(self.conv(x)))"
   ]
  },
  {
   "cell_type": "code",
   "execution_count": null,
   "id": "91af1fb9",
   "metadata": {},
   "outputs": [],
   "source": [
    "def get_darknet19(conv=ConvBlock, pool=nn.MaxPool2d(2)):\n",
    "    return nn.Sequential(\n",
    "            # Initial layers\n",
    "            conv(3, 32),\n",
    "            pool,\n",
    "            conv(32, 64),\n",
    "            pool,\n",
    "            \n",
    "            # First block\n",
    "            conv(64, 128),\n",
    "            conv(128, 64, ks=1),\n",
    "            conv(64, 128),\n",
    "            pool,\n",
    "            \n",
    "            # Second block\n",
    "            conv(128, 256),\n",
    "            conv(256, 128, ks=1),\n",
    "            conv(128, 256),\n",
    "            pool,\n",
    "            \n",
    "            # Third block\n",
    "            conv(256, 512),\n",
    "            conv(512, 256, ks=1),\n",
    "            conv(256, 512),\n",
    "            conv(512, 256, ks=1),\n",
    "            conv(256, 512),\n",
    "            pool,\n",
    "            \n",
    "            # Fourth block\n",
    "            conv(512, 1024),\n",
    "            conv(1024, 512, ks=1),\n",
    "            conv(512, 1024),\n",
    "            conv(1024, 512, ks=1),\n",
    "            conv(512, 1024)\n",
    "    )"
   ]
  },
  {
   "cell_type": "code",
   "execution_count": null,
   "id": "e85ed311",
   "metadata": {},
   "outputs": [
    {
     "data": {
      "text/plain": [
       "Sequential(\n",
       "  (0): ConvBlock(\n",
       "    (conv): Conv2d(1024, 200, kernel_size=(1, 1), stride=(1, 1))\n",
       "    (norm): BatchNorm2d(200, eps=1e-05, momentum=0.1, affine=True, track_running_stats=True)\n",
       "    (act): LeakyReLU(negative_slope=0.1)\n",
       "  )\n",
       "  (1): AdaptiveAvgPool2d(output_size=1)\n",
       "  (2): Flatten(start_dim=1, end_dim=-1)\n",
       ")"
      ]
     },
     "execution_count": null,
     "metadata": {},
     "output_type": "execute_result"
    }
   ],
   "source": [
    "head = nn.Sequential(\n",
    "    ConvBlock(1024, 200, ks=1),\n",
    "    nn.AdaptiveAvgPool2d(1),\n",
    "    nn.Flatten()\n",
    ")\n",
    "head"
   ]
  },
  {
   "cell_type": "code",
   "execution_count": null,
   "id": "c684b89d",
   "metadata": {},
   "outputs": [
    {
     "data": {
      "text/html": [
       "\n",
       "<style>\n",
       "    /* Turns off some styling */\n",
       "    progress {\n",
       "        /* gets rid of default border in Firefox and Opera. */\n",
       "        border: none;\n",
       "        /* Needs to be in here for Safari polyfill so background images work as expected. */\n",
       "        background-size: auto;\n",
       "    }\n",
       "    progress:not([value]), progress:not([value])::-webkit-progress-bar {\n",
       "        background: repeating-linear-gradient(45deg, #7e7e7e, #7e7e7e 10px, #5c5c5c 10px, #5c5c5c 20px);\n",
       "    }\n",
       "    .progress-bar-interrupted, .progress-bar-interrupted::-webkit-progress-bar {\n",
       "        background: #F44336;\n",
       "    }\n",
       "</style>\n"
      ],
      "text/plain": [
       "<IPython.core.display.HTML object>"
      ]
     },
     "metadata": {},
     "output_type": "display_data"
    },
    {
     "data": {
      "text/html": [
       "\n",
       "    <div>\n",
       "      <progress value='0' class='' max='1' style='width:300px; height:20px; vertical-align: middle;'></progress>\n",
       "      0.00% [0/1 00:00&lt;?]\n",
       "    </div>\n",
       "    \n",
       "\n",
       "\n",
       "    <div>\n",
       "      <progress value='0' class='' max='1563' style='width:300px; height:20px; vertical-align: middle;'></progress>\n",
       "      0.00% [0/1563 00:00&lt;?]\n",
       "    </div>\n",
       "    "
      ],
      "text/plain": [
       "<IPython.core.display.HTML object>"
      ]
     },
     "metadata": {},
     "output_type": "display_data"
    },
    {
     "name": "stdout",
     "output_type": "stream",
     "text": [
      "Tot params: 20029976; MFLOPS: 224.6\n"
     ]
    },
    {
     "data": {
      "text/markdown": [
       "|Module|Input|Output|Num params|MFLOPS|\n",
       "|--|--|--|--|--|\n",
       "|ConvBlock|(64, 3, 64, 64)|(64, 32, 64, 64)|960|3.5|\n",
       "|MaxPool2d|(64, 32, 64, 64)|(64, 32, 32, 32)|0|0.0|\n",
       "|MaxPool2d|(64, 32, 64, 64)|(64, 32, 32, 32)|0|0.0|\n",
       "|MaxPool2d|(64, 32, 64, 64)|(64, 32, 32, 32)|0|0.0|\n",
       "|MaxPool2d|(64, 32, 64, 64)|(64, 32, 32, 32)|0|0.0|\n",
       "|MaxPool2d|(64, 32, 64, 64)|(64, 32, 32, 32)|0|0.0|\n",
       "|ConvBlock|(64, 32, 32, 32)|(64, 64, 32, 32)|18624|18.9|\n",
       "|MaxPool2d|(64, 64, 32, 32)|(64, 64, 16, 16)|0|0.0|\n",
       "|MaxPool2d|(64, 64, 32, 32)|(64, 64, 16, 16)|0|0.0|\n",
       "|MaxPool2d|(64, 64, 32, 32)|(64, 64, 16, 16)|0|0.0|\n",
       "|MaxPool2d|(64, 64, 32, 32)|(64, 64, 16, 16)|0|0.0|\n",
       "|MaxPool2d|(64, 64, 32, 32)|(64, 64, 16, 16)|0|0.0|\n",
       "|ConvBlock|(64, 64, 16, 16)|(64, 128, 16, 16)|74112|18.9|\n",
       "|ConvBlock|(64, 128, 16, 16)|(64, 64, 16, 16)|8384|2.1|\n",
       "|ConvBlock|(64, 64, 16, 16)|(64, 128, 16, 16)|74112|18.9|\n",
       "|MaxPool2d|(64, 128, 16, 16)|(64, 128, 8, 8)|0|0.0|\n",
       "|MaxPool2d|(64, 128, 16, 16)|(64, 128, 8, 8)|0|0.0|\n",
       "|MaxPool2d|(64, 128, 16, 16)|(64, 128, 8, 8)|0|0.0|\n",
       "|MaxPool2d|(64, 128, 16, 16)|(64, 128, 8, 8)|0|0.0|\n",
       "|MaxPool2d|(64, 128, 16, 16)|(64, 128, 8, 8)|0|0.0|\n",
       "|ConvBlock|(64, 128, 8, 8)|(64, 256, 8, 8)|295680|18.9|\n",
       "|ConvBlock|(64, 256, 8, 8)|(64, 128, 8, 8)|33152|2.1|\n",
       "|ConvBlock|(64, 128, 8, 8)|(64, 256, 8, 8)|295680|18.9|\n",
       "|MaxPool2d|(64, 256, 8, 8)|(64, 256, 4, 4)|0|0.0|\n",
       "|MaxPool2d|(64, 256, 8, 8)|(64, 256, 4, 4)|0|0.0|\n",
       "|MaxPool2d|(64, 256, 8, 8)|(64, 256, 4, 4)|0|0.0|\n",
       "|MaxPool2d|(64, 256, 8, 8)|(64, 256, 4, 4)|0|0.0|\n",
       "|MaxPool2d|(64, 256, 8, 8)|(64, 256, 4, 4)|0|0.0|\n",
       "|ConvBlock|(64, 256, 4, 4)|(64, 512, 4, 4)|1181184|18.9|\n",
       "|ConvBlock|(64, 512, 4, 4)|(64, 256, 4, 4)|131840|2.1|\n",
       "|ConvBlock|(64, 256, 4, 4)|(64, 512, 4, 4)|1181184|18.9|\n",
       "|ConvBlock|(64, 512, 4, 4)|(64, 256, 4, 4)|131840|2.1|\n",
       "|ConvBlock|(64, 256, 4, 4)|(64, 512, 4, 4)|1181184|18.9|\n",
       "|MaxPool2d|(64, 512, 4, 4)|(64, 512, 2, 2)|0|0.0|\n",
       "|MaxPool2d|(64, 512, 4, 4)|(64, 512, 2, 2)|0|0.0|\n",
       "|MaxPool2d|(64, 512, 4, 4)|(64, 512, 2, 2)|0|0.0|\n",
       "|MaxPool2d|(64, 512, 4, 4)|(64, 512, 2, 2)|0|0.0|\n",
       "|MaxPool2d|(64, 512, 4, 4)|(64, 512, 2, 2)|0|0.0|\n",
       "|ConvBlock|(64, 512, 2, 2)|(64, 1024, 2, 2)|4721664|18.9|\n",
       "|ConvBlock|(64, 1024, 2, 2)|(64, 512, 2, 2)|525824|2.1|\n",
       "|ConvBlock|(64, 512, 2, 2)|(64, 1024, 2, 2)|4721664|18.9|\n",
       "|ConvBlock|(64, 1024, 2, 2)|(64, 512, 2, 2)|525824|2.1|\n",
       "|ConvBlock|(64, 512, 2, 2)|(64, 1024, 2, 2)|4721664|18.9|\n",
       "|ConvBlock|(64, 1024, 2, 2)|(64, 200, 2, 2)|205400|0.8|\n",
       "|AdaptiveAvgPool2d|(64, 200, 2, 2)|(64, 200, 1, 1)|0|0.0|\n",
       "|Flatten|(64, 200, 1, 1)|(64, 200)|0|0.0|\n"
      ],
      "text/plain": [
       "<IPython.core.display.Markdown object>"
      ]
     },
     "execution_count": null,
     "metadata": {},
     "output_type": "execute_result"
    }
   ],
   "source": [
    "learn = Learner(get_darknet19()+head, dls, loss_fn, lr=0.3, cbs=cbs)\n",
    "learn.summary()"
   ]
  },
  {
   "cell_type": "code",
   "execution_count": null,
   "id": "b0a1e65e",
   "metadata": {},
   "outputs": [
    {
     "data": {
      "text/html": [
       "\n",
       "<style>\n",
       "    /* Turns off some styling */\n",
       "    progress {\n",
       "        /* gets rid of default border in Firefox and Opera. */\n",
       "        border: none;\n",
       "        /* Needs to be in here for Safari polyfill so background images work as expected. */\n",
       "        background-size: auto;\n",
       "    }\n",
       "    progress:not([value]), progress:not([value])::-webkit-progress-bar {\n",
       "        background: repeating-linear-gradient(45deg, #7e7e7e, #7e7e7e 10px, #5c5c5c 10px, #5c5c5c 20px);\n",
       "    }\n",
       "    .progress-bar-interrupted, .progress-bar-interrupted::-webkit-progress-bar {\n",
       "        background: #F44336;\n",
       "    }\n",
       "</style>\n"
      ],
      "text/plain": [
       "<IPython.core.display.HTML object>"
      ]
     },
     "metadata": {},
     "output_type": "display_data"
    },
    {
     "data": {
      "text/html": [
       "<table border=\"1\" class=\"dataframe\">\n",
       "  <thead>\n",
       "    <tr style=\"text-align: left;\">\n",
       "      <th>accuracy</th>\n",
       "      <th>loss</th>\n",
       "      <th>epoch</th>\n",
       "      <th>train</th>\n",
       "      <th>time</th>\n",
       "    </tr>\n",
       "  </thead>\n",
       "  <tbody>\n",
       "    <tr>\n",
       "      <td>0.024</td>\n",
       "      <td>4.961</td>\n",
       "      <td>0</td>\n",
       "      <td>train</td>\n",
       "      <td>00:30</td>\n",
       "    </tr>\n",
       "    <tr>\n",
       "      <td>0.037</td>\n",
       "      <td>4.760</td>\n",
       "      <td>0</td>\n",
       "      <td>eval</td>\n",
       "      <td>00:02</td>\n",
       "    </tr>\n",
       "    <tr>\n",
       "      <td>0.061</td>\n",
       "      <td>4.454</td>\n",
       "      <td>1</td>\n",
       "      <td>train</td>\n",
       "      <td>00:30</td>\n",
       "    </tr>\n",
       "    <tr>\n",
       "      <td>0.044</td>\n",
       "      <td>4.779</td>\n",
       "      <td>1</td>\n",
       "      <td>eval</td>\n",
       "      <td>00:01</td>\n",
       "    </tr>\n",
       "    <tr>\n",
       "      <td>0.082</td>\n",
       "      <td>4.209</td>\n",
       "      <td>2</td>\n",
       "      <td>train</td>\n",
       "      <td>00:30</td>\n",
       "    </tr>\n",
       "    <tr>\n",
       "      <td>0.070</td>\n",
       "      <td>4.322</td>\n",
       "      <td>2</td>\n",
       "      <td>eval</td>\n",
       "      <td>00:01</td>\n",
       "    </tr>\n",
       "    <tr>\n",
       "      <td>0.103</td>\n",
       "      <td>4.035</td>\n",
       "      <td>3</td>\n",
       "      <td>train</td>\n",
       "      <td>00:30</td>\n",
       "    </tr>\n",
       "    <tr>\n",
       "      <td>0.102</td>\n",
       "      <td>4.119</td>\n",
       "      <td>3</td>\n",
       "      <td>eval</td>\n",
       "      <td>00:01</td>\n",
       "    </tr>\n",
       "    <tr>\n",
       "      <td>0.131</td>\n",
       "      <td>3.830</td>\n",
       "      <td>4</td>\n",
       "      <td>train</td>\n",
       "      <td>00:30</td>\n",
       "    </tr>\n",
       "    <tr>\n",
       "      <td>0.131</td>\n",
       "      <td>3.840</td>\n",
       "      <td>4</td>\n",
       "      <td>eval</td>\n",
       "      <td>00:01</td>\n",
       "    </tr>\n",
       "    <tr>\n",
       "      <td>0.159</td>\n",
       "      <td>3.650</td>\n",
       "      <td>5</td>\n",
       "      <td>train</td>\n",
       "      <td>00:30</td>\n",
       "    </tr>\n",
       "    <tr>\n",
       "      <td>0.136</td>\n",
       "      <td>3.868</td>\n",
       "      <td>5</td>\n",
       "      <td>eval</td>\n",
       "      <td>00:01</td>\n",
       "    </tr>\n",
       "    <tr>\n",
       "      <td>0.185</td>\n",
       "      <td>3.499</td>\n",
       "      <td>6</td>\n",
       "      <td>train</td>\n",
       "      <td>00:30</td>\n",
       "    </tr>\n",
       "    <tr>\n",
       "      <td>0.137</td>\n",
       "      <td>3.937</td>\n",
       "      <td>6</td>\n",
       "      <td>eval</td>\n",
       "      <td>00:01</td>\n",
       "    </tr>\n",
       "    <tr>\n",
       "      <td>0.206</td>\n",
       "      <td>3.379</td>\n",
       "      <td>7</td>\n",
       "      <td>train</td>\n",
       "      <td>00:31</td>\n",
       "    </tr>\n",
       "    <tr>\n",
       "      <td>0.171</td>\n",
       "      <td>3.708</td>\n",
       "      <td>7</td>\n",
       "      <td>eval</td>\n",
       "      <td>00:01</td>\n",
       "    </tr>\n",
       "    <tr>\n",
       "      <td>0.227</td>\n",
       "      <td>3.256</td>\n",
       "      <td>8</td>\n",
       "      <td>train</td>\n",
       "      <td>00:31</td>\n",
       "    </tr>\n",
       "    <tr>\n",
       "      <td>0.092</td>\n",
       "      <td>4.795</td>\n",
       "      <td>8</td>\n",
       "      <td>eval</td>\n",
       "      <td>00:01</td>\n",
       "    </tr>\n",
       "    <tr>\n",
       "      <td>0.249</td>\n",
       "      <td>3.146</td>\n",
       "      <td>9</td>\n",
       "      <td>train</td>\n",
       "      <td>00:31</td>\n",
       "    </tr>\n",
       "    <tr>\n",
       "      <td>0.231</td>\n",
       "      <td>3.292</td>\n",
       "      <td>9</td>\n",
       "      <td>eval</td>\n",
       "      <td>00:01</td>\n",
       "    </tr>\n",
       "  </tbody>\n",
       "</table>"
      ],
      "text/plain": [
       "<IPython.core.display.HTML object>"
      ]
     },
     "metadata": {},
     "output_type": "display_data"
    }
   ],
   "source": [
    "# lr = 1\n",
    "learn.fit(10)"
   ]
  },
  {
   "cell_type": "code",
   "execution_count": null,
   "id": "c04e2ea6",
   "metadata": {},
   "outputs": [
    {
     "data": {
      "text/html": [
       "\n",
       "<style>\n",
       "    /* Turns off some styling */\n",
       "    progress {\n",
       "        /* gets rid of default border in Firefox and Opera. */\n",
       "        border: none;\n",
       "        /* Needs to be in here for Safari polyfill so background images work as expected. */\n",
       "        background-size: auto;\n",
       "    }\n",
       "    progress:not([value]), progress:not([value])::-webkit-progress-bar {\n",
       "        background: repeating-linear-gradient(45deg, #7e7e7e, #7e7e7e 10px, #5c5c5c 10px, #5c5c5c 20px);\n",
       "    }\n",
       "    .progress-bar-interrupted, .progress-bar-interrupted::-webkit-progress-bar {\n",
       "        background: #F44336;\n",
       "    }\n",
       "</style>\n"
      ],
      "text/plain": [
       "<IPython.core.display.HTML object>"
      ]
     },
     "metadata": {},
     "output_type": "display_data"
    },
    {
     "data": {
      "text/html": [
       "<table border=\"1\" class=\"dataframe\">\n",
       "  <thead>\n",
       "    <tr style=\"text-align: left;\">\n",
       "      <th>accuracy</th>\n",
       "      <th>loss</th>\n",
       "      <th>epoch</th>\n",
       "      <th>train</th>\n",
       "      <th>time</th>\n",
       "    </tr>\n",
       "  </thead>\n",
       "  <tbody>\n",
       "    <tr>\n",
       "      <td>0.039</td>\n",
       "      <td>4.780</td>\n",
       "      <td>0</td>\n",
       "      <td>train</td>\n",
       "      <td>00:30</td>\n",
       "    </tr>\n",
       "    <tr>\n",
       "      <td>0.057</td>\n",
       "      <td>4.529</td>\n",
       "      <td>0</td>\n",
       "      <td>eval</td>\n",
       "      <td>00:01</td>\n",
       "    </tr>\n",
       "    <tr>\n",
       "      <td>0.092</td>\n",
       "      <td>4.218</td>\n",
       "      <td>1</td>\n",
       "      <td>train</td>\n",
       "      <td>00:30</td>\n",
       "    </tr>\n",
       "    <tr>\n",
       "      <td>0.044</td>\n",
       "      <td>5.159</td>\n",
       "      <td>1</td>\n",
       "      <td>eval</td>\n",
       "      <td>00:01</td>\n",
       "    </tr>\n",
       "    <tr>\n",
       "      <td>0.137</td>\n",
       "      <td>3.904</td>\n",
       "      <td>2</td>\n",
       "      <td>train</td>\n",
       "      <td>00:31</td>\n",
       "    </tr>\n",
       "    <tr>\n",
       "      <td>0.135</td>\n",
       "      <td>3.906</td>\n",
       "      <td>2</td>\n",
       "      <td>eval</td>\n",
       "      <td>00:01</td>\n",
       "    </tr>\n",
       "    <tr>\n",
       "      <td>0.163</td>\n",
       "      <td>3.705</td>\n",
       "      <td>3</td>\n",
       "      <td>train</td>\n",
       "      <td>00:31</td>\n",
       "    </tr>\n",
       "    <tr>\n",
       "      <td>0.113</td>\n",
       "      <td>4.146</td>\n",
       "      <td>3</td>\n",
       "      <td>eval</td>\n",
       "      <td>00:01</td>\n",
       "    </tr>\n",
       "    <tr>\n",
       "      <td>0.185</td>\n",
       "      <td>3.565</td>\n",
       "      <td>4</td>\n",
       "      <td>train</td>\n",
       "      <td>00:31</td>\n",
       "    </tr>\n",
       "    <tr>\n",
       "      <td>0.166</td>\n",
       "      <td>3.697</td>\n",
       "      <td>4</td>\n",
       "      <td>eval</td>\n",
       "      <td>00:01</td>\n",
       "    </tr>\n",
       "    <tr>\n",
       "      <td>0.206</td>\n",
       "      <td>3.444</td>\n",
       "      <td>5</td>\n",
       "      <td>train</td>\n",
       "      <td>00:31</td>\n",
       "    </tr>\n",
       "    <tr>\n",
       "      <td>0.122</td>\n",
       "      <td>4.253</td>\n",
       "      <td>5</td>\n",
       "      <td>eval</td>\n",
       "      <td>00:01</td>\n",
       "    </tr>\n",
       "    <tr>\n",
       "      <td>0.224</td>\n",
       "      <td>3.347</td>\n",
       "      <td>6</td>\n",
       "      <td>train</td>\n",
       "      <td>00:30</td>\n",
       "    </tr>\n",
       "    <tr>\n",
       "      <td>0.208</td>\n",
       "      <td>3.458</td>\n",
       "      <td>6</td>\n",
       "      <td>eval</td>\n",
       "      <td>00:01</td>\n",
       "    </tr>\n",
       "    <tr>\n",
       "      <td>0.239</td>\n",
       "      <td>3.251</td>\n",
       "      <td>7</td>\n",
       "      <td>train</td>\n",
       "      <td>00:30</td>\n",
       "    </tr>\n",
       "    <tr>\n",
       "      <td>0.196</td>\n",
       "      <td>3.567</td>\n",
       "      <td>7</td>\n",
       "      <td>eval</td>\n",
       "      <td>00:01</td>\n",
       "    </tr>\n",
       "    <tr>\n",
       "      <td>0.257</td>\n",
       "      <td>3.167</td>\n",
       "      <td>8</td>\n",
       "      <td>train</td>\n",
       "      <td>00:30</td>\n",
       "    </tr>\n",
       "    <tr>\n",
       "      <td>0.168</td>\n",
       "      <td>3.895</td>\n",
       "      <td>8</td>\n",
       "      <td>eval</td>\n",
       "      <td>00:01</td>\n",
       "    </tr>\n",
       "    <tr>\n",
       "      <td>0.273</td>\n",
       "      <td>3.078</td>\n",
       "      <td>9</td>\n",
       "      <td>train</td>\n",
       "      <td>00:30</td>\n",
       "    </tr>\n",
       "    <tr>\n",
       "      <td>0.178</td>\n",
       "      <td>3.765</td>\n",
       "      <td>9</td>\n",
       "      <td>eval</td>\n",
       "      <td>00:01</td>\n",
       "    </tr>\n",
       "  </tbody>\n",
       "</table>"
      ],
      "text/plain": [
       "<IPython.core.display.HTML object>"
      ]
     },
     "metadata": {},
     "output_type": "display_data"
    }
   ],
   "source": [
    "# lr = 0.1\n",
    "learn.fit(10)"
   ]
  },
  {
   "cell_type": "markdown",
   "id": "b9d7530c",
   "metadata": {},
   "source": [
    "### optimization "
   ]
  },
  {
   "cell_type": "markdown",
   "id": "84e40490",
   "metadata": {},
   "source": [
    "Let's try to use different optimizers, such as `AdamW`."
   ]
  },
  {
   "cell_type": "code",
   "execution_count": null,
   "id": "7042ccdf",
   "metadata": {},
   "outputs": [],
   "source": [
    "from functools import partial\n",
    "from torch import optim"
   ]
  },
  {
   "cell_type": "code",
   "execution_count": null,
   "id": "75cfa4bb",
   "metadata": {},
   "outputs": [],
   "source": [
    "# optim.AdamW?"
   ]
  },
  {
   "cell_type": "code",
   "execution_count": null,
   "id": "655d83cc",
   "metadata": {},
   "outputs": [
    {
     "data": {
      "text/html": [
       "\n",
       "<style>\n",
       "    /* Turns off some styling */\n",
       "    progress {\n",
       "        /* gets rid of default border in Firefox and Opera. */\n",
       "        border: none;\n",
       "        /* Needs to be in here for Safari polyfill so background images work as expected. */\n",
       "        background-size: auto;\n",
       "    }\n",
       "    progress:not([value]), progress:not([value])::-webkit-progress-bar {\n",
       "        background: repeating-linear-gradient(45deg, #7e7e7e, #7e7e7e 10px, #5c5c5c 10px, #5c5c5c 20px);\n",
       "    }\n",
       "    .progress-bar-interrupted, .progress-bar-interrupted::-webkit-progress-bar {\n",
       "        background: #F44336;\n",
       "    }\n",
       "</style>\n"
      ],
      "text/plain": [
       "<IPython.core.display.HTML object>"
      ]
     },
     "metadata": {},
     "output_type": "display_data"
    },
    {
     "data": {
      "text/html": [
       "\n",
       "    <div>\n",
       "      <progress value='0' class='' max='10' style='width:300px; height:20px; vertical-align: middle;'></progress>\n",
       "      0.00% [0/10 00:00&lt;?]\n",
       "    </div>\n",
       "    \n",
       "\n",
       "\n",
       "    <div>\n",
       "      <progress value='56' class='' max='1563' style='width:300px; height:20px; vertical-align: middle;'></progress>\n",
       "      3.58% [56/1563 00:01&lt;00:32 8.154]\n",
       "    </div>\n",
       "    "
      ],
      "text/plain": [
       "<IPython.core.display.HTML object>"
      ]
     },
     "metadata": {},
     "output_type": "display_data"
    },
    {
     "data": {
      "image/png": "[encoded data removed]",
      "text/plain": [
       "<Figure size 640x480 with 1 Axes>"
      ]
     },
     "metadata": {},
     "output_type": "display_data"
    }
   ],
   "source": [
    "opt_func = partial(optim.AdamW, eps=1e-5)\n",
    "model = get_darknet19()+head\n",
    "learn = Learner(model, dls, loss_fn, lr=0.1, cbs=cbs, opt_func=opt_func)\n",
    "learn.lr_find()"
   ]
  },
  {
   "cell_type": "code",
   "execution_count": null,
   "id": "c116cbbc",
   "metadata": {},
   "outputs": [],
   "source": [
    "model = get_darknet19()+head\n",
    "learn = Learner(model, dls, loss_fn, lr=0.1, cbs=cbs, opt_func=opt_func)"
   ]
  },
  {
   "cell_type": "code",
   "execution_count": null,
   "id": "ce8af840",
   "metadata": {},
   "outputs": [
    {
     "data": {
      "text/html": [
       "\n",
       "<style>\n",
       "    /* Turns off some styling */\n",
       "    progress {\n",
       "        /* gets rid of default border in Firefox and Opera. */\n",
       "        border: none;\n",
       "        /* Needs to be in here for Safari polyfill so background images work as expected. */\n",
       "        background-size: auto;\n",
       "    }\n",
       "    progress:not([value]), progress:not([value])::-webkit-progress-bar {\n",
       "        background: repeating-linear-gradient(45deg, #7e7e7e, #7e7e7e 10px, #5c5c5c 10px, #5c5c5c 20px);\n",
       "    }\n",
       "    .progress-bar-interrupted, .progress-bar-interrupted::-webkit-progress-bar {\n",
       "        background: #F44336;\n",
       "    }\n",
       "</style>\n"
      ],
      "text/plain": [
       "<IPython.core.display.HTML object>"
      ]
     },
     "metadata": {},
     "output_type": "display_data"
    },
    {
     "data": {
      "text/html": [
       "<table border=\"1\" class=\"dataframe\">\n",
       "  <thead>\n",
       "    <tr style=\"text-align: left;\">\n",
       "      <th>accuracy</th>\n",
       "      <th>loss</th>\n",
       "      <th>epoch</th>\n",
       "      <th>train</th>\n",
       "      <th>time</th>\n",
       "    </tr>\n",
       "  </thead>\n",
       "  <tbody>\n",
       "    <tr>\n",
       "      <td>0.012</td>\n",
       "      <td>5.155</td>\n",
       "      <td>0</td>\n",
       "      <td>train</td>\n",
       "      <td>00:33</td>\n",
       "    </tr>\n",
       "    <tr>\n",
       "      <td>0.011</td>\n",
       "      <td>5.270</td>\n",
       "      <td>0</td>\n",
       "      <td>eval</td>\n",
       "      <td>00:01</td>\n",
       "    </tr>\n",
       "    <tr>\n",
       "      <td>0.015</td>\n",
       "      <td>5.071</td>\n",
       "      <td>1</td>\n",
       "      <td>train</td>\n",
       "      <td>00:33</td>\n",
       "    </tr>\n",
       "    <tr>\n",
       "      <td>0.012</td>\n",
       "      <td>5.314</td>\n",
       "      <td>1</td>\n",
       "      <td>eval</td>\n",
       "      <td>00:01</td>\n",
       "    </tr>\n",
       "    <tr>\n",
       "      <td>0.015</td>\n",
       "      <td>5.047</td>\n",
       "      <td>2</td>\n",
       "      <td>train</td>\n",
       "      <td>00:33</td>\n",
       "    </tr>\n",
       "    <tr>\n",
       "      <td>0.012</td>\n",
       "      <td>5.279</td>\n",
       "      <td>2</td>\n",
       "      <td>eval</td>\n",
       "      <td>00:01</td>\n",
       "    </tr>\n",
       "    <tr>\n",
       "      <td>0.020</td>\n",
       "      <td>4.963</td>\n",
       "      <td>3</td>\n",
       "      <td>train</td>\n",
       "      <td>00:33</td>\n",
       "    </tr>\n",
       "    <tr>\n",
       "      <td>0.008</td>\n",
       "      <td>6.116</td>\n",
       "      <td>3</td>\n",
       "      <td>eval</td>\n",
       "      <td>00:02</td>\n",
       "    </tr>\n",
       "    <tr>\n",
       "      <td>0.026</td>\n",
       "      <td>4.854</td>\n",
       "      <td>4</td>\n",
       "      <td>train</td>\n",
       "      <td>00:33</td>\n",
       "    </tr>\n",
       "    <tr>\n",
       "      <td>0.023</td>\n",
       "      <td>5.260</td>\n",
       "      <td>4</td>\n",
       "      <td>eval</td>\n",
       "      <td>00:01</td>\n",
       "    </tr>\n",
       "    <tr>\n",
       "      <td>0.028</td>\n",
       "      <td>4.826</td>\n",
       "      <td>5</td>\n",
       "      <td>train</td>\n",
       "      <td>00:33</td>\n",
       "    </tr>\n",
       "    <tr>\n",
       "      <td>0.012</td>\n",
       "      <td>5.225</td>\n",
       "      <td>5</td>\n",
       "      <td>eval</td>\n",
       "      <td>00:01</td>\n",
       "    </tr>\n",
       "    <tr>\n",
       "      <td>0.028</td>\n",
       "      <td>4.821</td>\n",
       "      <td>6</td>\n",
       "      <td>train</td>\n",
       "      <td>00:33</td>\n",
       "    </tr>\n",
       "    <tr>\n",
       "      <td>0.009</td>\n",
       "      <td>5.513</td>\n",
       "      <td>6</td>\n",
       "      <td>eval</td>\n",
       "      <td>00:01</td>\n",
       "    </tr>\n",
       "    <tr>\n",
       "      <td>0.028</td>\n",
       "      <td>4.819</td>\n",
       "      <td>7</td>\n",
       "      <td>train</td>\n",
       "      <td>00:33</td>\n",
       "    </tr>\n",
       "    <tr>\n",
       "      <td>0.018</td>\n",
       "      <td>5.326</td>\n",
       "      <td>7</td>\n",
       "      <td>eval</td>\n",
       "      <td>00:01</td>\n",
       "    </tr>\n",
       "    <tr>\n",
       "      <td>0.028</td>\n",
       "      <td>4.813</td>\n",
       "      <td>8</td>\n",
       "      <td>train</td>\n",
       "      <td>00:33</td>\n",
       "    </tr>\n",
       "    <tr>\n",
       "      <td>0.014</td>\n",
       "      <td>5.297</td>\n",
       "      <td>8</td>\n",
       "      <td>eval</td>\n",
       "      <td>00:01</td>\n",
       "    </tr>\n",
       "    <tr>\n",
       "      <td>0.028</td>\n",
       "      <td>4.815</td>\n",
       "      <td>9</td>\n",
       "      <td>train</td>\n",
       "      <td>00:34</td>\n",
       "    </tr>\n",
       "    <tr>\n",
       "      <td>0.020</td>\n",
       "      <td>4.995</td>\n",
       "      <td>9</td>\n",
       "      <td>eval</td>\n",
       "      <td>00:01</td>\n",
       "    </tr>\n",
       "  </tbody>\n",
       "</table>"
      ],
      "text/plain": [
       "<IPython.core.display.HTML object>"
      ]
     },
     "metadata": {},
     "output_type": "display_data"
    }
   ],
   "source": [
    "learn.fit(10)"
   ]
  },
  {
   "cell_type": "code",
   "execution_count": null,
   "id": "8cacdbd9",
   "metadata": {},
   "outputs": [],
   "source": []
  }
 ],
 "metadata": {
  "kernelspec": {
   "display_name": "python3",
   "language": "python",
   "name": "python3"
  }
 },
 "nbformat": 4,
 "nbformat_minor": 5
}
