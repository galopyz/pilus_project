{
 "cells": [
  {
   "cell_type": "code",
   "execution_count": null,
   "id": "f2be3e28",
   "metadata": {},
   "outputs": [],
   "source": [
    "%load_ext autoreload\n",
    "%autoreload 2"
   ]
  },
  {
   "cell_type": "code",
   "execution_count": null,
   "id": "9153363c",
   "metadata": {},
   "outputs": [],
   "source": [
    "#| default_exp detection"
   ]
  },
  {
   "cell_type": "markdown",
   "id": "c48e5625",
   "metadata": {},
   "source": [
    "# Detection\n",
    "> Performing bounding box detection on PASCAL VOC 2007 using Darknet"
   ]
  },
  {
   "cell_type": "markdown",
   "id": "ee36a975",
   "metadata": {},
   "source": []
  },
  {
   "cell_type": "code",
   "execution_count": null,
   "id": "5396edd0",
   "metadata": {},
   "outputs": [],
   "source": [
    "import torch\n",
    "import torch.nn as nn\n",
    "\n",
    "class ConvBlock(nn.Module):\n",
    "    def __init__(self, in_channels, out_channels, kernel_size=3):\n",
    "        super().__init__()\n",
    "        padding = 1 if kernel_size == 3 else 0\n",
    "        self.conv = nn.Conv2d(in_channels, out_channels, kernel_size, padding=padding)\n",
    "        self.bn = nn.BatchNorm2d(out_channels)\n",
    "        self.leaky = nn.LeakyReLU(0.1)\n",
    "\n",
    "    def forward(self, x): return self.leaky(self.bn(self.conv(x)))\n",
    "\n",
    "class Darknet19(nn.Module):\n",
    "    def __init__(self):\n",
    "        super().__init__()\n",
    "        self.features = nn.Sequential(\n",
    "            # Initial layers\n",
    "            ConvBlock(3, 32),\n",
    "            nn.MaxPool2d(2),\n",
    "            ConvBlock(32, 64),\n",
    "            nn.MaxPool2d(2),\n",
    "            \n",
    "            # First block\n",
    "            ConvBlock(64, 128),\n",
    "            ConvBlock(128, 64, kernel_size=1),\n",
    "            ConvBlock(64, 128),\n",
    "            nn.MaxPool2d(2),\n",
    "            \n",
    "            # Second block\n",
    "            ConvBlock(128, 256),\n",
    "            ConvBlock(256, 128, kernel_size=1),\n",
    "            ConvBlock(128, 256),\n",
    "            nn.MaxPool2d(2),\n",
    "            \n",
    "            # Third block\n",
    "            ConvBlock(256, 512),\n",
    "            ConvBlock(512, 256, kernel_size=1),\n",
    "            ConvBlock(256, 512),\n",
    "            ConvBlock(512, 256, kernel_size=1),\n",
    "            ConvBlock(256, 512),\n",
    "            nn.MaxPool2d(2),\n",
    "            \n",
    "            # Fourth block\n",
    "            ConvBlock(512, 1024),\n",
    "            ConvBlock(1024, 512, kernel_size=1),\n",
    "            ConvBlock(512, 1024),\n",
    "            ConvBlock(1024, 512, kernel_size=1),\n",
    "            ConvBlock(512, 1024)\n",
    "        )\n",
    "\n",
    "    def forward(self, x): return self.features(x)\n"
   ]
  },
  {
   "cell_type": "code",
   "execution_count": null,
   "id": "a6502b5d",
   "metadata": {},
   "outputs": [],
   "source": [
    "class YOLOv2(nn.Module):\n",
    "    def __init__(self, num_classes, num_anchors=5):\n",
    "        super().__init__()\n",
    "        self.backbone = Darknet19()\n",
    "        \n",
    "        # Passthrough layer from earlier feature map\n",
    "        self.passthrough_conv = ConvBlock(512, 64, kernel_size=1)\n",
    "        \n",
    "        # Detection head\n",
    "        self.detection = nn.Sequential(\n",
    "            ConvBlock(1024 + 256, 1024),  # +256 from passthrough (64*4)\n",
    "            nn.Conv2d(1024, num_anchors * (5 + num_classes), kernel_size=1)\n",
    "        )\n",
    "        \n",
    "    def reorg_layer(self, x):\n",
    "        # Reorganize 26x26x64 to 13x13x256\n",
    "        batch_size, channels, height, width = x.size()\n",
    "        x = x.view(batch_size, channels, height//2, 2, width//2, 2)\n",
    "        x = x.permute(0, 1, 3, 5, 2, 4)\n",
    "        x = x.contiguous().view(batch_size, channels*4, height//2, width//2)\n",
    "        return x\n",
    "\n",
    "    def forward(self, x):\n",
    "        # Get backbone features\n",
    "        for i, layer in enumerate(self.backbone.features):\n",
    "            x = layer(x)\n",
    "            if i == 13:  # Save feature map for passthrough\n",
    "                passthrough = self.passthrough_conv(x)\n",
    "                passthrough = self.reorg_layer(passthrough)\n",
    "        \n",
    "        # Concatenate passthrough with final features\n",
    "        x = torch.cat([passthrough, x], dim=1)\n",
    "        \n",
    "        # Detection head\n",
    "        return self.detection(x)\n"
   ]
  },
  {
   "cell_type": "code",
   "execution_count": null,
   "id": "90b8fb7c",
   "metadata": {},
   "outputs": [],
   "source": []
  }
 ],
 "metadata": {
  "kernelspec": {
   "display_name": "python3",
   "language": "python",
   "name": "python3"
  }
 },
 "nbformat": 4,
 "nbformat_minor": 5
}
