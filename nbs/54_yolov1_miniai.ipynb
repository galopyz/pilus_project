{
 "cells": [
  {
   "cell_type": "markdown",
   "id": "514dc46d",
   "metadata": {},
   "source": [
    "# Yolo v1 using minai\n",
    "> Supercharge yolo v1 with miniai power"
   ]
  },
  {
   "cell_type": "code",
   "execution_count": null,
   "id": "3f5cabf2",
   "metadata": {},
   "outputs": [],
   "source": [
    "import torch\n",
    "import torchvision.transforms as transforms\n",
    "import fastcore.all as fc\n",
    "\n",
    "import numpy as np\n",
    "import pandas as pd\n",
    "import matplotlib.pyplot as plt\n",
    "\n",
    "from minai import *\n",
    "from pilus_project.yolov1 import *"
   ]
  },
  {
   "cell_type": "code",
   "execution_count": null,
   "id": "51041659",
   "metadata": {},
   "outputs": [],
   "source": [
    "set_seed(42)"
   ]
  },
  {
   "cell_type": "code",
   "execution_count": null,
   "id": "148c2e17",
   "metadata": {},
   "outputs": [],
   "source": [
    "transform = Compose([transforms.Resize((448, 448)), transforms.ToTensor(),])"
   ]
  },
  {
   "cell_type": "code",
   "execution_count": null,
   "id": "c34811c1",
   "metadata": {},
   "outputs": [],
   "source": [
    "trn_ds = VOCDataset(\"../8examples.csv\", \n",
    "                    transform=transform,\n",
    "                    img_dir=IMG_DIR,\n",
    "                    label_dir=LABEL_DIR)\n",
    "x0, y0 = trn_ds[0]\n"
   ]
  }
 ],
 "metadata": {
  "kernelspec": {
   "display_name": "python3",
   "language": "python",
   "name": "python3"
  }
 },
 "nbformat": 4,
 "nbformat_minor": 5
}
